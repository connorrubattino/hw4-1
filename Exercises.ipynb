{
 "cells": [
  {
   "cell_type": "code",
   "execution_count": 6,
   "metadata": {},
   "outputs": [],
   "source": [
    "import re"
   ]
  },
  {
   "cell_type": "markdown",
   "metadata": {},
   "source": [
    "### Exercise 1"
   ]
  },
  {
   "cell_type": "markdown",
   "metadata": {},
   "source": [
    "Write a function that takes in a tweet and returns a list of the hashtags in the tweet<br>\n",
    "Ex. 1<br>\n",
    "tweet = \"Python is the best #Python #Programming #CodingTemple\"<br>\n",
    "Expected Output: [\"#Python\", \"#Programming\", \"#CodingTemple\"]<br>\n",
    "\n",
    "Ex. 2<br>\n",
    "tweet = \"I love my life! #blessed\"<br>\n",
    "Expected Output: [\"#bleesed\"]<br>\n",
    "\n",
    "Ex. 3<br>\n",
    "tweet = \"Bear Down\"<br>\n",
    "Expected Output: []<br>\n"
   ]
  },
  {
   "cell_type": "code",
   "execution_count": 14,
   "metadata": {},
   "outputs": [
    {
     "data": {
      "text/plain": [
       "['#Python', '#Programming', '#CodingTemple']"
      ]
     },
     "execution_count": 14,
     "metadata": {},
     "output_type": "execute_result"
    }
   ],
   "source": [
    "def get_hashes(tweet):\n",
    "    hash = re.compile('#\\w+')\n",
    "    hashes = hash.findall(tweet)\n",
    "    return hashes\n",
    "\n",
    "get_hashes(\"Python is the best #Python #Programming #CodingTemple\")"
   ]
  },
  {
   "cell_type": "markdown",
   "metadata": {},
   "source": [
    "### Exercise 2"
   ]
  },
  {
   "cell_type": "markdown",
   "metadata": {},
   "source": [
    "Develop a regular expression to validate a username. The username should start with a letter, followed by any combination of letters, numbers, underscores, and dots. It should be between 3 and 16 characters long<br>\n",
    "Ex. 1 <br>\n",
    "username = \"CodingTemple123\"<br>\n",
    "Expected Output: True<br>\n",
    "\n",
    "Ex. 2 <br>\n",
    "username = \"1love\"<br>\n",
    "Expected Output: False<br>\n",
    "\n",
    "Ex. 3 <br>\n",
    "username = \"CT\"<br>\n",
    "Expected Output: False<br>\n",
    "\n",
    "Ex. 4 <br>\n",
    "username = \"This_is_a_username_that_I_would_like_to_use\"<br>\n",
    "Expected Output: False<br>\n",
    "\n",
    "Ex. 5 <br>\n",
    "username = \"brian_ct123\"<br>\n",
    "Expected Output: True<br>"
   ]
  },
  {
   "cell_type": "code",
   "execution_count": 24,
   "metadata": {
    "scrolled": true
   },
   "outputs": [
    {
     "data": {
      "text/plain": [
       "False"
      ]
     },
     "execution_count": 24,
     "metadata": {},
     "output_type": "execute_result"
    }
   ],
   "source": [
    "def valid_username(username):\n",
    "    u_name = re.compile('[A-Za-z]\\w{2,15}$')\n",
    "    if u_name.match(username):\n",
    "        return True\n",
    "    else:\n",
    "        return False\n",
    "    \n",
    "valid_username(\"This_is_a_username_that_I_would_like_to_use\")"
   ]
  },
  {
   "cell_type": "markdown",
   "metadata": {},
   "source": [
    "### Exercise 3"
   ]
  },
  {
   "cell_type": "markdown",
   "metadata": {},
   "source": [
    "Using the Python `open()` function, read in the `example.txt` file (attached in Google Classroom, make sure it is in the same folder as this notebook). Create a pattern that will find all of the dates in the text. Dates are in the format of YYYY-MM-DD. The pattern should have groups for year, month, and day. Using the `.finditer()` method, iterate over the dates and print in format of month/day/year<br>"
   ]
  },
  {
   "cell_type": "markdown",
   "metadata": {},
   "source": [
    "Output:\n",
    "```\n",
    "05/15/1990\n",
    "09/20/2015\n",
    "12/03/1985\n",
    "06/18/2010\n",
    "11/30/2002\n",
    "08/10/1978\n",
    "04/25/1992\n",
    "07/07/2019\n",
    "02/12/1980\n",
    "03/22/2005\n",
    "```"
   ]
  },
  {
   "cell_type": "code",
   "execution_count": 47,
   "metadata": {},
   "outputs": [
    {
     "name": "stdout",
     "output_type": "stream",
     "text": [
      "Daniel Martinez was born on 1990-05-15. He later married Elizabeth Anderson on 2015-09-20.\n",
      "\n",
      "Alice Johnson's birthdate is 1985-12-03, and she got her degree on 2010-06-18.\n",
      "\n",
      "Michael Brown's graduation date is 2002-11-30. He celebrated his birthday on 1978-08-10.\n",
      "\n",
      "Emily Wilson was born on 1992-04-25. She completed her Ph.D. on 2019-07-07.\n",
      "\n",
      "Sarah Clark's birthdate is 1980-02-12. She joined the company on 2005-03-22.\n",
      "\n",
      "05/15/1990\n",
      "09/20/2015\n",
      "12/03/1985\n",
      "06/18/2010\n",
      "11/30/2002\n",
      "08/10/1978\n",
      "04/25/1992\n",
      "07/07/2019\n",
      "02/12/1980\n",
      "03/22/2005\n"
     ]
    }
   ],
   "source": [
    "with open('example.txt') as new_file:\n",
    "    data_str = new_file.read()\n",
    "\n",
    "print(data_str)\n",
    "    \n",
    "dates = re.compile('(?P<year>[0-9]{4})-(?P<month>[0-9]{2})-(?P<day>[0-9]{2})')\n",
    "\n",
    "date_finds = dates.finditer(data_str)\n",
    "\n",
    "for date in date_finds:\n",
    "    print(f'{date.group(\"month\")}/{date.group(\"day\")}/{date.group(\"year\")}')"
   ]
  },
  {
   "cell_type": "code",
   "execution_count": null,
   "metadata": {},
   "outputs": [
    {
     "ename": "",
     "evalue": "",
     "output_type": "error",
     "traceback": [
      "\u001b[1;31mRunning cells with '/usr/local/bin/python3' requires the ipykernel package.\n",
      "\u001b[1;31mRun the following command to install 'ipykernel' into the Python environment. \n",
      "\u001b[1;31mCommand: '/usr/local/bin/python3 -m pip install ipykernel -U --user --force-reinstall'"
     ]
    }
   ],
   "source": [
    "#for date in dates.finditer(data_str):\n",
    " #   print(f'{date.group(\"month\")}/{date.group(\"day\")}/{date.group(\"year\")}')"
   ]
  }
 ],
 "metadata": {
  "kernelspec": {
   "display_name": "Python 3 (ipykernel)",
   "language": "python",
   "name": "python3"
  },
  "language_info": {
   "codemirror_mode": {
    "name": "ipython",
    "version": 3
   },
   "file_extension": ".py",
   "mimetype": "text/x-python",
   "name": "python",
   "nbconvert_exporter": "python",
   "pygments_lexer": "ipython3",
   "version": "3.11.7"
  }
 },
 "nbformat": 4,
 "nbformat_minor": 4
}
